{
  "nbformat": 4,
  "nbformat_minor": 0,
  "metadata": {
    "colab": {
      "name": "FutureLab.ipynb",
      "provenance": [],
      "collapsed_sections": [],
      "authorship_tag": "ABX9TyORxTON5t6snyENCFsSlpl/",
      "include_colab_link": true
    },
    "kernelspec": {
      "name": "python3",
      "display_name": "Python 3"
    },
    "accelerator": "GPU"
  },
  "cells": [
    {
      "cell_type": "markdown",
      "metadata": {
        "id": "view-in-github",
        "colab_type": "text"
      },
      "source": [
        "<a href=\"https://colab.research.google.com/github/thefenriswolf/FutureLab/blob/main/FutureLab.ipynb\" target=\"_parent\"><img src=\"https://colab.research.google.com/assets/colab-badge.svg\" alt=\"Open In Colab\"/></a>"
      ]
    },
    {
      "cell_type": "markdown",
      "metadata": {
        "id": "V5wQgFR6oO1j"
      },
      "source": [
        "# Libary Imports\n",
        "\n",
        "In this field, we import all the pieces of software we are going to use.\n"
      ]
    },
    {
      "cell_type": "code",
      "metadata": {
        "colab": {
          "base_uri": "https://localhost:8080/"
        },
        "id": "f9ORC-A9Ruhk",
        "cellView": "code",
        "outputId": "3fe50795-3f1b-4f45-9d57-7b18139c09aa"
      },
      "source": [
        "%tensorflow_version 2.x \n",
        "import tensorflow as tf\n",
        "from tensorflow.keras.models import Sequential\n",
        "from tensorflow.keras.callbacks import EarlyStopping\n",
        "from tensorflow.keras import layers\n",
        "from tensorflow.keras.layers.experimental import preprocessing\n",
        "import pandas as pd\n",
        "import numpy as np\n",
        "import matplotlib.pyplot as plt\n",
        "\n",
        "# check for active GPU\n",
        "print(tf.test.gpu_device_name())\n",
        "print(tf.__version__)"
      ],
      "execution_count": 4,
      "outputs": [
        {
          "output_type": "stream",
          "text": [
            "/device:GPU:0\n",
            "2.4.1\n"
          ],
          "name": "stdout"
        }
      ]
    },
    {
      "cell_type": "markdown",
      "metadata": {
        "id": "a10z8_vkzcfr"
      },
      "source": [
        "# Regression\n"
      ]
    },
    {
      "cell_type": "markdown",
      "metadata": {
        "id": "0UpOudHhoU-I"
      },
      "source": [
        "## Manual regression\n",
        "\n",
        "Let's say we gathered some data:\n",
        "Body height and Ring size of a few people and we want to predict the Ring size by putting it in relation to someones body height.\n"
      ]
    },
    {
      "cell_type": "code",
      "metadata": {
        "colab": {
          "base_uri": "https://localhost:8080/",
          "height": 279
        },
        "id": "LYrl4YekzolA",
        "outputId": "3c56ab23-c7ff-4688-d305-db983a0fcaad"
      },
      "source": [
        "data = np.array([\n",
        "    [150.0, 12.7],\n",
        "    [154.0, 13.0],\n",
        "    [161.0, 14.6],\n",
        "    [168.0, 15.6],\n",
        "    [170.0, 15.9],\n",
        "    [173.0, 16.2],\n",
        "    [175.0, np.nan],\n",
        "    [180, 17.5],\n",
        "    [184.0, 17.8],\n",
        "    [190, 18.1],\n",
        "])\n",
        "x, y = data.T\n",
        "plt.xlabel(\"Body height (cm)\")\n",
        "plt.ylabel(\"Ring size (mm)\")\n",
        "plt.plot(x,y)\n",
        "plt.show()"
      ],
      "execution_count": 17,
      "outputs": [
        {
          "output_type": "display_data",
          "data": {
            "image/png": "[encoded data removed]",
            "text/plain": [
              "<Figure size 432x288 with 1 Axes>"
            ]
          },
          "metadata": {
            "tags": [],
            "needs_background": "light"
          }
        }
      ]
    },
    {
      "cell_type": "markdown",
      "metadata": {
        "id": "48WtJD-g2IaS"
      },
      "source": [
        "## Linear Interpolation\n",
        "\n",
        "We could of course just draw a straight line to complete the plot, but let's use a tiny bit of math first.\n",
        "To use linear interpolation we just need to know the x and y values of 2 points on a graph and we can interpolate a point in between.\n",
        "\n",
        "Formula: $$\\widehat{y(x)}=y_{i}+\\frac{(y_{i+1}-y_{i})(x-x_{i})}{x_{i+1}-x_{i}}$$"
      ]
    },
    {
      "cell_type": "code",
      "metadata": {
        "colab": {
          "base_uri": "https://localhost:8080/",
          "height": 296
        },
        "id": "sBgs2fhA4u2E",
        "outputId": "2abce1e7-6569-4cdc-9bac-3189b471e0e3"
      },
      "source": [
        "x_prev=173.0\n",
        "x_post=180\n",
        "y_prev=16.2\n",
        "y_post=17.5\n",
        "x_missing=175.0\n",
        "\n",
        "# lin_interpolation takes the x and y values of two points and the x value of a point in between those points.\n",
        "def lin_interpolation(x_prev, x_post, y_prev, y_post, x_missing):\n",
        " return y_prev + (((y_post-y_prev)*(x_missing-x_prev))/(x_post-x_prev))\n",
        "\n",
        "y_missing=lin_interpolation(x_prev, x_post, y_prev, y_post, x_missing)\n",
        "print(y_missing)\n",
        "\n",
        "data = np.array([\n",
        "    [150.0, 12.7],\n",
        "    [154.0, 13.0],\n",
        "    [161.0, 14.6],\n",
        "    [168.0, 15.6],\n",
        "    [170.0, 15.9],\n",
        "    [173.0, 16.2],\n",
        "    [175.0, y_missing],\n",
        "    [180, 17.5],\n",
        "    [184.0, 17.8],\n",
        "    [190, 18.1],\n",
        "])\n",
        "x, y = data.T\n",
        "plt.xlabel(\"Body height (cm)\")\n",
        "plt.ylabel(\"Ring size (mm)\")\n",
        "plt.plot(x,y)\n",
        "plt.show()"
      ],
      "execution_count": 5,
      "outputs": [
        {
          "output_type": "stream",
          "text": [
            "16.57142857142857\n"
          ],
          "name": "stdout"
        },
        {
          "output_type": "display_data",
          "data": {
            "image/png": "[encoded data removed]",
            "text/plain": [
              "<Figure size 432x288 with 1 Axes>"
            ]
          },
          "metadata": {
            "tags": [],
            "needs_background": "light"
          }
        }
      ]
    },
    {
      "cell_type": "markdown",
      "metadata": {
        "id": "L5ayBfxYohNY"
      },
      "source": [
        "## ML Regression\n",
        "To use Machine Learning for Regression our data ought to be of a more complex nature and we need a larger sample size for it to work properly.\n",
        "\n",
        "The [publicly available dataset](https://doi.org/10.1016/j.dss.2009.05.016) we are going to use contains *11* physiochemical properties of *4897* wine samples and its perceived quality."
      ]
    },
    {
      "cell_type": "markdown",
      "metadata": {
        "id": "I4LZ3CXii78G"
      },
      "source": [
        "### Dataset import\n",
        "The first step is always to clean and import the data we are going to use.\n",
        "Our data comes as a ready to use CSV file (plaintext spreadsheet format) and requires very little cleanup."
      ]
    },
    {
      "cell_type": "code",
      "metadata": {
        "id": "WoxIfv7jPxvR",
        "colab": {
          "base_uri": "https://localhost:8080/",
          "height": 223
        },
        "outputId": "4b308d90-dd40-4b29-e9bd-4b63173b4283"
      },
      "source": [
        "# We'll pull our dataset from this study: https://www.sciencedirect.com/science/article/abs/pii/S0167923609001377?via%3Dihub\n",
        "url = 'https://archive.ics.uci.edu/ml/machine-learning-databases/wine-quality/winequality-white.csv'\n",
        "\n",
        "# The dataset comes with headers, but it's always a good idea to write them down for reference\n",
        "column_names = [\"fixed acidity\", \"volatile acidity\", \"citric acid\",\n",
        "                \"residual sugar\", \"chlorides\", \"free sulfur dioxide\", \"total sulfur dioxide\",\n",
        "                \"density\", \"pH\", \"sulphates\", \"alcohol\", \"quality\"]\n",
        "\n",
        "# We use pandas read_csv() Function to parse the file and convert it to a pandas dataframe\n",
        "raw_dataset = pd.read_csv(url, header='infer',\n",
        "                          sep=';', skipinitialspace=True)\n",
        "# url: dataset source\n",
        "# header='infer': autodetect first line as header\n",
        "# sep=';': values in the dataset are separated by a semicolon\n",
        "# skipinitialspace=True: ignore extra spaces if there are any\n",
        "\n",
        "# Let's take a look at out data and check if importing worked as expected\n",
        "# head(): shows the 'head' (first few lines) of any file or dataframe, the opposite of head is 'tail'\n",
        "#raw_dataset.head()\n",
        "raw_dataset.tail()"
      ],
      "execution_count": 7,
      "outputs": [
        {
          "output_type": "execute_result",
          "data": {
            "text/html": [
              "<div>\n",
              "<style scoped>\n",
              "    .dataframe tbody tr th:only-of-type {\n",
              "        vertical-align: middle;\n",
              "    }\n",
              "\n",
              "    .dataframe tbody tr th {\n",
              "        vertical-align: top;\n",
              "    }\n",
              "\n",
              "    .dataframe thead th {\n",
              "        text-align: right;\n",
              "    }\n",
              "</style>\n",
              "<table border=\"1\" class=\"dataframe\">\n",
              "  <thead>\n",
              "    <tr style=\"text-align: right;\">\n",
              "      <th></th>\n",
              "      <th>fixed acidity</th>\n",
              "      <th>volatile acidity</th>\n",
              "      <th>citric acid</th>\n",
              "      <th>residual sugar</th>\n",
              "      <th>chlorides</th>\n",
              "      <th>free sulfur dioxide</th>\n",
              "      <th>total sulfur dioxide</th>\n",
              "      <th>density</th>\n",
              "      <th>pH</th>\n",
              "      <th>sulphates</th>\n",
              "      <th>alcohol</th>\n",
              "      <th>quality</th>\n",
              "    </tr>\n",
              "  </thead>\n",
              "  <tbody>\n",
              "    <tr>\n",
              "      <th>4893</th>\n",
              "      <td>6.2</td>\n",
              "      <td>0.21</td>\n",
              "      <td>0.29</td>\n",
              "      <td>1.6</td>\n",
              "      <td>0.039</td>\n",
              "      <td>24.0</td>\n",
              "      <td>92.0</td>\n",
              "      <td>0.99114</td>\n",
              "      <td>3.27</td>\n",
              "      <td>0.50</td>\n",
              "      <td>11.2</td>\n",
              "      <td>6</td>\n",
              "    </tr>\n",
              "    <tr>\n",
              "      <th>4894</th>\n",
              "      <td>6.6</td>\n",
              "      <td>0.32</td>\n",
              "      <td>0.36</td>\n",
              "      <td>8.0</td>\n",
              "      <td>0.047</td>\n",
              "      <td>57.0</td>\n",
              "      <td>168.0</td>\n",
              "      <td>0.99490</td>\n",
              "      <td>3.15</td>\n",
              "      <td>0.46</td>\n",
              "      <td>9.6</td>\n",
              "      <td>5</td>\n",
              "    </tr>\n",
              "    <tr>\n",
              "      <th>4895</th>\n",
              "      <td>6.5</td>\n",
              "      <td>0.24</td>\n",
              "      <td>0.19</td>\n",
              "      <td>1.2</td>\n",
              "      <td>0.041</td>\n",
              "      <td>30.0</td>\n",
              "      <td>111.0</td>\n",
              "      <td>0.99254</td>\n",
              "      <td>2.99</td>\n",
              "      <td>0.46</td>\n",
              "      <td>9.4</td>\n",
              "      <td>6</td>\n",
              "    </tr>\n",
              "    <tr>\n",
              "      <th>4896</th>\n",
              "      <td>5.5</td>\n",
              "      <td>0.29</td>\n",
              "      <td>0.30</td>\n",
              "      <td>1.1</td>\n",
              "      <td>0.022</td>\n",
              "      <td>20.0</td>\n",
              "      <td>110.0</td>\n",
              "      <td>0.98869</td>\n",
              "      <td>3.34</td>\n",
              "      <td>0.38</td>\n",
              "      <td>12.8</td>\n",
              "      <td>7</td>\n",
              "    </tr>\n",
              "    <tr>\n",
              "      <th>4897</th>\n",
              "      <td>6.0</td>\n",
              "      <td>0.21</td>\n",
              "      <td>0.38</td>\n",
              "      <td>0.8</td>\n",
              "      <td>0.020</td>\n",
              "      <td>22.0</td>\n",
              "      <td>98.0</td>\n",
              "      <td>0.98941</td>\n",
              "      <td>3.26</td>\n",
              "      <td>0.32</td>\n",
              "      <td>11.8</td>\n",
              "      <td>6</td>\n",
              "    </tr>\n",
              "  </tbody>\n",
              "</table>\n",
              "</div>"
            ],
            "text/plain": [
              "      fixed acidity  volatile acidity  citric acid  ...  sulphates  alcohol  quality\n",
              "4893            6.2              0.21         0.29  ...       0.50     11.2        6\n",
              "4894            6.6              0.32         0.36  ...       0.46      9.6        5\n",
              "4895            6.5              0.24         0.19  ...       0.46      9.4        6\n",
              "4896            5.5              0.29         0.30  ...       0.38     12.8        7\n",
              "4897            6.0              0.21         0.38  ...       0.32     11.8        6\n",
              "\n",
              "[5 rows x 12 columns]"
            ]
          },
          "metadata": {
            "tags": []
          },
          "execution_count": 7
        }
      ]
    },
    {
      "cell_type": "markdown",
      "metadata": {
        "id": "860tpPKBjXsz"
      },
      "source": [
        "#### Dataset sanity check\n",
        "\n",
        "We have a very clean dataset on our hands.\n",
        "Usually we'd have to spend considerable time cleaning up our dataset for proper use.\n",
        "**Always** check your dataset for missing values, inconsistencies and other irregularities, as it saves you lots of time later in the development process."
      ]
    },
    {
      "cell_type": "code",
      "metadata": {
        "colab": {
          "base_uri": "https://localhost:8080/"
        },
        "id": "aJq2nUnaOiAk",
        "outputId": "22b2a985-5f56-45a5-94c1-6784ace934c1"
      },
      "source": [
        "# Check for unknown values and sum them up\n",
        "raw_dataset.isna().sum()"
      ],
      "execution_count": 8,
      "outputs": [
        {
          "output_type": "execute_result",
          "data": {
            "text/plain": [
              "fixed acidity           0\n",
              "volatile acidity        0\n",
              "citric acid             0\n",
              "residual sugar          0\n",
              "chlorides               0\n",
              "free sulfur dioxide     0\n",
              "total sulfur dioxide    0\n",
              "density                 0\n",
              "pH                      0\n",
              "sulphates               0\n",
              "alcohol                 0\n",
              "quality                 0\n",
              "dtype: int64"
            ]
          },
          "metadata": {
            "tags": []
          },
          "execution_count": 8
        }
      ]
    },
    {
      "cell_type": "markdown",
      "metadata": {
        "id": "zYfTPD0Njl0D"
      },
      "source": [
        "#### Dataset split\n",
        "\n",
        "We want most of our data for training the model and smaller amount for testing its capabilities.\n",
        "In this case we go for a 80:20 ratio.  "
      ]
    },
    {
      "cell_type": "code",
      "metadata": {
        "colab": {
          "base_uri": "https://localhost:8080/"
        },
        "id": "grFIYGE1P446",
        "outputId": "286d8d92-8512-412a-cd1b-f53b0016c26d"
      },
      "source": [
        "# Never modify your raw data, always create a copy to work on!\n",
        "wdataset = raw_dataset\n",
        "\n",
        "# Now let's split our dataset in a test and train dataset\n",
        "# We'll use the train dataset to (hopefully) teach our model.\n",
        "# The test dataset will be useful after training to validate that the training processes worked as expected.\n",
        "\n",
        "train_dataset = wdataset.sample(frac=0.8, random_state=0)\n",
        "# sample() takes n random items (80% in this case) from a list or sequence\n",
        "\n",
        "test_dataset = wdataset.drop(train_dataset.index)\n",
        "# Now we create a dataset and delete any item that sample() picked so we are left with our unique test_dataset\n",
        "\n",
        "# Always check if a manipulation did what you expected it to do.\n",
        "train_dataset.shape\n",
        "\n",
        "# 3918 is 80.00816826628548% of 4897, so we successfuly split our dataset in training and testing data using a 80:20 ratio."
      ],
      "execution_count": 15,
      "outputs": [
        {
          "output_type": "execute_result",
          "data": {
            "text/plain": [
              "(3918, 12)"
            ]
          },
          "metadata": {
            "tags": []
          },
          "execution_count": 15
        }
      ]
    },
    {
      "cell_type": "markdown",
      "metadata": {
        "id": "NhqYGg2KkHpw"
      },
      "source": [
        "### Single Input \n",
        "Just like in the manual regression example above, we have two inputs. In this case we want to predict the amount of alcohol contained by establishing a relationship to the pH level."
      ]
    },
    {
      "cell_type": "markdown",
      "metadata": {
        "id": "RHmZkcRGjwkX"
      },
      "source": [
        "#### Label creation"
      ]
    },
    {
      "cell_type": "code",
      "metadata": {
        "colab": {
          "base_uri": "https://localhost:8080/",
          "height": 426
        },
        "id": "J_jZLZxXTdh8",
        "outputId": "e7a17b80-e953-4eb7-fe79-bd85f24c0225"
      },
      "source": [
        "# First we create a work copy so we don't have to modify our raw data.\n",
        "si_train_features = train_dataset.copy()\n",
        "si_test_features = test_dataset.copy()\n",
        "\n",
        "\n",
        "# Now we filter out the parameter we want our model to predict. Here I settle on 'alcohol' but you can choose any label you like.\n",
        "# Of course we have to do this in both datasets.\n",
        "si_train_labels = si_train_features.pop('alcohol')\n",
        "si_test_labels = si_test_features.pop('alcohol')\n",
        "\n",
        "# Let's take a look at our data again.\n",
        "train_dataset.describe().transpose()[['mean', 'std']]\n",
        "\n",
        "# Upon closer inspection we see that the values are in a mean rage (0.04-137.7).\n",
        "# This rather large range might \"confuse\" our model, so we have to apply some 'normalization'"
      ],
      "execution_count": 16,
      "outputs": [
        {
          "output_type": "execute_result",
          "data": {
            "text/html": [
              "<div>\n",
              "<style scoped>\n",
              "    .dataframe tbody tr th:only-of-type {\n",
              "        vertical-align: middle;\n",
              "    }\n",
              "\n",
              "    .dataframe tbody tr th {\n",
              "        vertical-align: top;\n",
              "    }\n",
              "\n",
              "    .dataframe thead th {\n",
              "        text-align: right;\n",
              "    }\n",
              "</style>\n",
              "<table border=\"1\" class=\"dataframe\">\n",
              "  <thead>\n",
              "    <tr style=\"text-align: right;\">\n",
              "      <th></th>\n",
              "      <th>mean</th>\n",
              "      <th>std</th>\n",
              "    </tr>\n",
              "  </thead>\n",
              "  <tbody>\n",
              "    <tr>\n",
              "      <th>fixed acidity</th>\n",
              "      <td>6.858754</td>\n",
              "      <td>0.855479</td>\n",
              "    </tr>\n",
              "    <tr>\n",
              "      <th>volatile acidity</th>\n",
              "      <td>0.278278</td>\n",
              "      <td>0.100173</td>\n",
              "    </tr>\n",
              "    <tr>\n",
              "      <th>citric acid</th>\n",
              "      <td>0.334722</td>\n",
              "      <td>0.122170</td>\n",
              "    </tr>\n",
              "    <tr>\n",
              "      <th>residual sugar</th>\n",
              "      <td>6.380028</td>\n",
              "      <td>5.057262</td>\n",
              "    </tr>\n",
              "    <tr>\n",
              "      <th>chlorides</th>\n",
              "      <td>0.045709</td>\n",
              "      <td>0.022408</td>\n",
              "    </tr>\n",
              "    <tr>\n",
              "      <th>free sulfur dioxide</th>\n",
              "      <td>35.172282</td>\n",
              "      <td>17.139453</td>\n",
              "    </tr>\n",
              "    <tr>\n",
              "      <th>total sulfur dioxide</th>\n",
              "      <td>137.688999</td>\n",
              "      <td>42.577736</td>\n",
              "    </tr>\n",
              "    <tr>\n",
              "      <th>density</th>\n",
              "      <td>0.994021</td>\n",
              "      <td>0.002987</td>\n",
              "    </tr>\n",
              "    <tr>\n",
              "      <th>pH</th>\n",
              "      <td>3.187412</td>\n",
              "      <td>0.151155</td>\n",
              "    </tr>\n",
              "    <tr>\n",
              "      <th>sulphates</th>\n",
              "      <td>0.489104</td>\n",
              "      <td>0.114159</td>\n",
              "    </tr>\n",
              "    <tr>\n",
              "      <th>alcohol</th>\n",
              "      <td>10.516563</td>\n",
              "      <td>1.230119</td>\n",
              "    </tr>\n",
              "    <tr>\n",
              "      <th>quality</th>\n",
              "      <td>5.877999</td>\n",
              "      <td>0.888138</td>\n",
              "    </tr>\n",
              "  </tbody>\n",
              "</table>\n",
              "</div>"
            ],
            "text/plain": [
              "                            mean        std\n",
              "fixed acidity           6.858754   0.855479\n",
              "volatile acidity        0.278278   0.100173\n",
              "citric acid             0.334722   0.122170\n",
              "residual sugar          6.380028   5.057262\n",
              "chlorides               0.045709   0.022408\n",
              "free sulfur dioxide    35.172282  17.139453\n",
              "total sulfur dioxide  137.688999  42.577736\n",
              "density                 0.994021   0.002987\n",
              "pH                      3.187412   0.151155\n",
              "sulphates               0.489104   0.114159\n",
              "alcohol                10.516563   1.230119\n",
              "quality                 5.877999   0.888138"
            ]
          },
          "metadata": {
            "tags": []
          },
          "execution_count": 16
        }
      ]
    },
    {
      "cell_type": "markdown",
      "metadata": {
        "id": "DCPCmKAKn2t1"
      },
      "source": [
        "#### Model architecture\n",
        "\n",
        "Here we define the structure of our model. We tell keras to build a sequential model (as opposed to a recurring model) and add 3 layers:\n",
        "- normalization\n",
        "- dense\n",
        "- dense"
      ]
    },
    {
      "cell_type": "code",
      "metadata": {
        "colab": {
          "base_uri": "https://localhost:8080/"
        },
        "id": "y-_xjBNfcQFN",
        "outputId": "af9d5207-f18c-42cf-d74f-d3a9cd4f0c85"
      },
      "source": [
        "# Create a simple model for linear regression\n",
        "# First we appy normalization to our feature\n",
        "pH = np.array(si_train_features['pH'])\n",
        "pH_normalizer = preprocessing.Normalization(input_shape=[1,])\n",
        "pH_normalizer.adapt(pH)\n",
        "\n",
        "# Then we can build our model\n",
        "pH_model = tf.keras.Sequential([\n",
        "    pH_normalizer,\n",
        "    layers.Dense(units=1),\n",
        "    layers.Dense(units=1)\n",
        "])\n",
        "\n",
        "pH_model.summary()"
      ],
      "execution_count": 17,
      "outputs": [
        {
          "output_type": "stream",
          "text": [
            "Model: \"sequential_1\"\n",
            "_________________________________________________________________\n",
            "Layer (type)                 Output Shape              Param #   \n",
            "=================================================================\n",
            "normalization_1 (Normalizati (None, 1)                 3         \n",
            "_________________________________________________________________\n",
            "dense_2 (Dense)              (None, 1)                 2         \n",
            "_________________________________________________________________\n",
            "dense_3 (Dense)              (None, 1)                 2         \n",
            "=================================================================\n",
            "Total params: 7\n",
            "Trainable params: 4\n",
            "Non-trainable params: 3\n",
            "_________________________________________________________________\n"
          ],
          "name": "stdout"
        }
      ]
    },
    {
      "cell_type": "markdown",
      "metadata": {
        "id": "rSiqaCtRlEu5"
      },
      "source": [
        "#### Model compilation and training"
      ]
    },
    {
      "cell_type": "code",
      "metadata": {
        "colab": {
          "base_uri": "https://localhost:8080/"
        },
        "id": "_wO4-WHsewTR",
        "outputId": "e3a994c7-caae-49b8-a233-6b864f1e199f"
      },
      "source": [
        "# Now we can tell TensorFlow to compile our model. This is necessary as TensorFlow is written in C++, we are only using Python as an abstraction on top.\n",
        "# This is also the time to specify our desired optimizer and loss function.\n",
        "# The learning rate defines the size of adjustment steps made during training.\n",
        "pH_model.compile(\n",
        "    optimizer=tf.optimizers.Adam(learning_rate=0.01),\n",
        "    loss='mean_absolute_error')\n",
        "\n",
        "# We can let keras monitor the leaning process and stop it early if the model does not improve.\n",
        "es = EarlyStopping(monitor='val_loss', verbose=1, patience=50)\n",
        "\n",
        "# model.fit() tells TensorFlow to start training. We just have to pass our features and labels to it.\n",
        "history = pH_model.fit(\n",
        "    # pass features and labels as input\n",
        "    si_train_features['pH'], si_train_labels,\n",
        "    # how often should the model go through the dataset\n",
        "    epochs=200,\n",
        "    # show trainig steps\n",
        "    verbose=1,\n",
        "    # add early stopping capability\n",
        "    callbacks=[es],\n",
        "    # Calculate validation results on 90% of the training data\n",
        "    validation_split = 0.9)\n"
      ],
      "execution_count": 18,
      "outputs": [
        {
          "output_type": "stream",
          "text": [
            "Epoch 1/200\n",
            "13/13 [==============================] - 2s 25ms/step - loss: 10.6257 - val_loss: 10.3064\n",
            "Epoch 2/200\n",
            "13/13 [==============================] - 0s 13ms/step - loss: 10.3670 - val_loss: 10.1067\n",
            "Epoch 3/200\n",
            "13/13 [==============================] - 0s 13ms/step - loss: 10.1497 - val_loss: 9.8810\n",
            "Epoch 4/200\n",
            "13/13 [==============================] - 0s 13ms/step - loss: 9.9682 - val_loss: 9.6193\n",
            "Epoch 5/200\n",
            "13/13 [==============================] - 0s 13ms/step - loss: 9.6423 - val_loss: 9.2964\n",
            "Epoch 6/200\n",
            "13/13 [==============================] - 0s 13ms/step - loss: 9.4985 - val_loss: 8.9171\n",
            "Epoch 7/200\n",
            "13/13 [==============================] - 0s 14ms/step - loss: 9.0764 - val_loss: 8.4361\n",
            "Epoch 8/200\n",
            "13/13 [==============================] - 0s 13ms/step - loss: 8.4940 - val_loss: 7.8663\n",
            "Epoch 9/200\n",
            "13/13 [==============================] - 0s 13ms/step - loss: 7.9268 - val_loss: 7.2061\n",
            "Epoch 10/200\n",
            "13/13 [==============================] - 0s 13ms/step - loss: 7.2180 - val_loss: 6.4483\n",
            "Epoch 11/200\n",
            "13/13 [==============================] - 0s 13ms/step - loss: 6.5688 - val_loss: 5.6437\n",
            "Epoch 12/200\n",
            "13/13 [==============================] - 0s 13ms/step - loss: 5.6723 - val_loss: 4.7910\n",
            "Epoch 13/200\n",
            "13/13 [==============================] - 0s 14ms/step - loss: 5.0358 - val_loss: 3.9092\n",
            "Epoch 14/200\n",
            "13/13 [==============================] - 0s 13ms/step - loss: 3.9377 - val_loss: 3.0231\n",
            "Epoch 15/200\n",
            "13/13 [==============================] - 0s 14ms/step - loss: 3.1031 - val_loss: 2.1645\n",
            "Epoch 16/200\n",
            "13/13 [==============================] - 0s 13ms/step - loss: 2.0751 - val_loss: 1.4156\n",
            "Epoch 17/200\n",
            "13/13 [==============================] - 0s 13ms/step - loss: 1.4295 - val_loss: 1.0405\n",
            "Epoch 18/200\n",
            "13/13 [==============================] - 0s 13ms/step - loss: 1.0486 - val_loss: 1.0592\n",
            "Epoch 19/200\n",
            "13/13 [==============================] - 0s 13ms/step - loss: 1.0774 - val_loss: 1.0513\n",
            "Epoch 20/200\n",
            "13/13 [==============================] - 0s 13ms/step - loss: 1.0387 - val_loss: 1.0351\n",
            "Epoch 21/200\n",
            "13/13 [==============================] - 0s 13ms/step - loss: 1.0380 - val_loss: 1.0255\n",
            "Epoch 22/200\n",
            "13/13 [==============================] - 0s 13ms/step - loss: 1.0467 - val_loss: 1.0254\n",
            "Epoch 23/200\n",
            "13/13 [==============================] - 0s 13ms/step - loss: 1.0579 - val_loss: 1.0264\n",
            "Epoch 24/200\n",
            "13/13 [==============================] - 0s 13ms/step - loss: 1.0757 - val_loss: 1.0309\n",
            "Epoch 25/200\n",
            "13/13 [==============================] - 0s 13ms/step - loss: 1.0457 - val_loss: 1.0280\n",
            "Epoch 26/200\n",
            "13/13 [==============================] - 0s 13ms/step - loss: 1.0219 - val_loss: 1.0205\n",
            "Epoch 27/200\n",
            "13/13 [==============================] - 0s 13ms/step - loss: 1.0700 - val_loss: 1.0160\n",
            "Epoch 28/200\n",
            "13/13 [==============================] - 0s 14ms/step - loss: 1.0605 - val_loss: 1.0232\n",
            "Epoch 29/200\n",
            "13/13 [==============================] - 0s 13ms/step - loss: 1.0351 - val_loss: 1.0317\n",
            "Epoch 30/200\n",
            "13/13 [==============================] - 0s 13ms/step - loss: 1.0509 - val_loss: 1.0247\n",
            "Epoch 31/200\n",
            "13/13 [==============================] - 0s 14ms/step - loss: 1.0299 - val_loss: 1.0179\n",
            "Epoch 32/200\n",
            "13/13 [==============================] - 0s 13ms/step - loss: 1.0595 - val_loss: 1.0184\n",
            "Epoch 33/200\n",
            "13/13 [==============================] - 0s 13ms/step - loss: 1.0757 - val_loss: 1.0257\n",
            "Epoch 34/200\n",
            "13/13 [==============================] - 0s 13ms/step - loss: 1.0724 - val_loss: 1.0256\n",
            "Epoch 35/200\n",
            "13/13 [==============================] - 0s 13ms/step - loss: 1.0353 - val_loss: 1.0182\n",
            "Epoch 36/200\n",
            "13/13 [==============================] - 0s 13ms/step - loss: 1.0331 - val_loss: 1.0236\n",
            "Epoch 37/200\n",
            "13/13 [==============================] - 0s 13ms/step - loss: 1.0449 - val_loss: 1.0243\n",
            "Epoch 38/200\n",
            "13/13 [==============================] - 0s 14ms/step - loss: 1.0594 - val_loss: 1.0204\n",
            "Epoch 39/200\n",
            "13/13 [==============================] - 0s 14ms/step - loss: 1.0646 - val_loss: 1.0223\n",
            "Epoch 40/200\n",
            "13/13 [==============================] - 0s 13ms/step - loss: 1.0613 - val_loss: 1.0207\n",
            "Epoch 41/200\n",
            "13/13 [==============================] - 0s 13ms/step - loss: 1.0748 - val_loss: 1.0186\n",
            "Epoch 42/200\n",
            "13/13 [==============================] - 0s 13ms/step - loss: 1.0101 - val_loss: 1.0196\n",
            "Epoch 43/200\n",
            "13/13 [==============================] - 0s 13ms/step - loss: 1.0725 - val_loss: 1.0181\n",
            "Epoch 44/200\n",
            "13/13 [==============================] - 0s 13ms/step - loss: 1.1138 - val_loss: 1.0218\n",
            "Epoch 45/200\n",
            "13/13 [==============================] - 0s 13ms/step - loss: 1.1064 - val_loss: 1.0218\n",
            "Epoch 46/200\n",
            "13/13 [==============================] - 0s 13ms/step - loss: 1.0637 - val_loss: 1.0239\n",
            "Epoch 47/200\n",
            "13/13 [==============================] - 0s 13ms/step - loss: 1.0298 - val_loss: 1.0247\n",
            "Epoch 48/200\n",
            "13/13 [==============================] - 0s 14ms/step - loss: 1.0694 - val_loss: 1.0288\n",
            "Epoch 49/200\n",
            "13/13 [==============================] - 0s 13ms/step - loss: 1.0404 - val_loss: 1.0405\n",
            "Epoch 50/200\n",
            "13/13 [==============================] - 0s 14ms/step - loss: 1.0443 - val_loss: 1.0423\n",
            "Epoch 51/200\n",
            "13/13 [==============================] - 0s 13ms/step - loss: 1.0874 - val_loss: 1.0202\n",
            "Epoch 52/200\n",
            "13/13 [==============================] - 0s 13ms/step - loss: 1.0657 - val_loss: 1.0273\n",
            "Epoch 53/200\n",
            "13/13 [==============================] - 0s 13ms/step - loss: 1.0589 - val_loss: 1.0289\n",
            "Epoch 54/200\n",
            "13/13 [==============================] - 0s 13ms/step - loss: 1.0546 - val_loss: 1.0288\n",
            "Epoch 55/200\n",
            "13/13 [==============================] - 0s 13ms/step - loss: 1.1090 - val_loss: 1.0223\n",
            "Epoch 56/200\n",
            "13/13 [==============================] - 0s 14ms/step - loss: 1.0278 - val_loss: 1.0339\n",
            "Epoch 57/200\n",
            "13/13 [==============================] - 0s 13ms/step - loss: 1.0285 - val_loss: 1.0348\n",
            "Epoch 58/200\n",
            "13/13 [==============================] - 0s 13ms/step - loss: 1.0933 - val_loss: 1.0325\n",
            "Epoch 59/200\n",
            "13/13 [==============================] - 0s 13ms/step - loss: 1.0395 - val_loss: 1.0241\n",
            "Epoch 60/200\n",
            "13/13 [==============================] - 0s 13ms/step - loss: 1.0857 - val_loss: 1.0194\n",
            "Epoch 61/200\n",
            "13/13 [==============================] - 0s 13ms/step - loss: 1.0274 - val_loss: 1.0241\n",
            "Epoch 62/200\n",
            "13/13 [==============================] - 0s 14ms/step - loss: 1.0637 - val_loss: 1.0282\n",
            "Epoch 63/200\n",
            "13/13 [==============================] - 0s 14ms/step - loss: 1.0661 - val_loss: 1.0249\n",
            "Epoch 64/200\n",
            "13/13 [==============================] - 0s 14ms/step - loss: 1.0599 - val_loss: 1.0312\n",
            "Epoch 65/200\n",
            "13/13 [==============================] - 0s 13ms/step - loss: 1.0312 - val_loss: 1.0202\n",
            "Epoch 66/200\n",
            "13/13 [==============================] - 0s 13ms/step - loss: 1.0723 - val_loss: 1.0249\n",
            "Epoch 67/200\n",
            "13/13 [==============================] - 0s 13ms/step - loss: 1.0669 - val_loss: 1.0397\n",
            "Epoch 68/200\n",
            "13/13 [==============================] - 0s 14ms/step - loss: 1.0334 - val_loss: 1.0163\n",
            "Epoch 69/200\n",
            "13/13 [==============================] - 0s 13ms/step - loss: 1.0294 - val_loss: 1.0173\n",
            "Epoch 70/200\n",
            "13/13 [==============================] - 0s 13ms/step - loss: 1.0866 - val_loss: 1.0197\n",
            "Epoch 71/200\n",
            "13/13 [==============================] - 0s 13ms/step - loss: 1.0855 - val_loss: 1.0300\n",
            "Epoch 72/200\n",
            "13/13 [==============================] - 0s 14ms/step - loss: 1.0438 - val_loss: 1.0297\n",
            "Epoch 73/200\n",
            "13/13 [==============================] - 0s 13ms/step - loss: 1.0811 - val_loss: 1.0191\n",
            "Epoch 74/200\n",
            "13/13 [==============================] - 0s 14ms/step - loss: 1.0620 - val_loss: 1.0169\n",
            "Epoch 75/200\n",
            "13/13 [==============================] - 0s 14ms/step - loss: 1.0809 - val_loss: 1.0209\n",
            "Epoch 76/200\n",
            "13/13 [==============================] - 0s 14ms/step - loss: 1.1007 - val_loss: 1.0206\n",
            "Epoch 77/200\n",
            "13/13 [==============================] - 0s 13ms/step - loss: 1.0705 - val_loss: 1.0265\n",
            "Epoch 00077: early stopping\n"
          ],
          "name": "stdout"
        }
      ]
    },
    {
      "cell_type": "markdown",
      "metadata": {
        "id": "nrganFa0lJ47"
      },
      "source": [
        "#### Plot performance"
      ]
    },
    {
      "cell_type": "code",
      "metadata": {
        "colab": {
          "base_uri": "https://localhost:8080/",
          "height": 283
        },
        "id": "oHDEwjM1mWkS",
        "outputId": "1e002239-56b0-4e18-8418-b418c0847a86"
      },
      "source": [
        "# Now we can plot our models learning process\n",
        "hist = pd.DataFrame(history.history)\n",
        "hist['epoch'] = history.epoch\n",
        "#hist.tail()\n",
        "def plot_loss(history):\n",
        "  plt.plot(history.history['loss'], label='loss')\n",
        "  plt.plot(history.history['val_loss'], label='val_loss')\n",
        "  plt.ylim([0, 10])\n",
        "  plt.xlabel('Epoch')\n",
        "  plt.ylabel('Error [pH]')\n",
        "  plt.legend()\n",
        "  plt.grid(True)\n",
        "plot_loss(history)\n"
      ],
      "execution_count": 26,
      "outputs": [
        {
          "output_type": "display_data",
          "data": {
            "image/png": "[encoded data removed]",
            "text/plain": [
              "<Figure size 432x288 with 1 Axes>"
            ]
          },
          "metadata": {
            "tags": [],
            "needs_background": "light"
          }
        }
      ]
    },
    {
      "cell_type": "markdown",
      "metadata": {
        "id": "8W7B-RRaoDPK"
      },
      "source": [
        "### Multi Input Model"
      ]
    },
    {
      "cell_type": "markdown",
      "metadata": {
        "id": "qoWQnYvYlyD5"
      },
      "source": [
        "#### Label creation"
      ]
    },
    {
      "cell_type": "code",
      "metadata": {
        "id": "C4CWCIqxpdtB"
      },
      "source": [
        "mitrain_features = train_dataset.copy()\n",
        "mitest_features = test_dataset.copy()\n",
        "\n",
        "# Let's predict 'quality for a change'\n",
        "mitrain_labels = mitrain_features.pop('quality')\n",
        "mitest_labels = mitest_features.pop('quality')"
      ],
      "execution_count": 11,
      "outputs": []
    },
    {
      "cell_type": "markdown",
      "metadata": {
        "id": "4nBFyYHHl0d5"
      },
      "source": [
        "#### Model architecture"
      ]
    },
    {
      "cell_type": "code",
      "metadata": {
        "colab": {
          "base_uri": "https://localhost:8080/"
        },
        "id": "eoAfTxGQoGH8",
        "outputId": "80df3a0a-c73a-4968-a3c4-83c415cfb442"
      },
      "source": [
        "# Create a simple model for linear regression\n",
        "# First we appy normalization to our whole dataset\n",
        "mi = np.array(mitrain_features)\n",
        "mi_normalizer = preprocessing.Normalization(input_shape=[1,])\n",
        "mi_normalizer.adapt(mi)\n",
        "\n",
        "# Then we can build our model\n",
        "mi_model = tf.keras.Sequential([\n",
        "    mi_normalizer,\n",
        "    layers.Dense(units=1),\n",
        "    layers.Dense(units=1)\n",
        "])\n",
        "\n",
        "mi_model.summary()"
      ],
      "execution_count": 13,
      "outputs": [
        {
          "output_type": "stream",
          "text": [
            "Model: \"sequential_2\"\n",
            "_________________________________________________________________\n",
            "Layer (type)                 Output Shape              Param #   \n",
            "=================================================================\n",
            "normalization_2 (Normalizati (None, 11)                23        \n",
            "_________________________________________________________________\n",
            "dense_4 (Dense)              (None, 1)                 12        \n",
            "_________________________________________________________________\n",
            "dense_5 (Dense)              (None, 1)                 2         \n",
            "=================================================================\n",
            "Total params: 37\n",
            "Trainable params: 14\n",
            "Non-trainable params: 23\n",
            "_________________________________________________________________\n"
          ],
          "name": "stdout"
        }
      ]
    },
    {
      "cell_type": "markdown",
      "metadata": {
        "id": "949p7m16l489"
      },
      "source": [
        "#### Model compilation and training"
      ]
    },
    {
      "cell_type": "code",
      "metadata": {
        "colab": {
          "base_uri": "https://localhost:8080/"
        },
        "id": "uaNfRvrPoaCs",
        "outputId": "cd0abf65-b41a-4d2a-f2cf-3c3157163494"
      },
      "source": [
        "mi_model.compile(\n",
        "    optimizer=tf.optimizers.Adam(learning_rate=0.1),\n",
        "    loss='mean_absolute_error')\n",
        "es = EarlyStopping(monitor='val_loss', verbose=1, patience=50)\n",
        "history = mi_model.fit(\n",
        "    # notice that this time we pass all labels and features to the model\n",
        "    mitrain_features, mitrain_labels,\n",
        "    epochs=200,\n",
        "    verbose=1,\n",
        "    callbacks=[es],\n",
        "    validation_split = 0.9)\n"
      ],
      "execution_count": 14,
      "outputs": [
        {
          "output_type": "stream",
          "text": [
            "Epoch 1/200\n",
            "WARNING:tensorflow:Model was constructed with shape (None, 1) for input KerasTensor(type_spec=TensorSpec(shape=(None, 1), dtype=tf.float32, name='normalization_2_input'), name='normalization_2_input', description=\"created by layer 'normalization_2_input'\"), but it was called on an input with incompatible shape (None, 11).\n",
            "WARNING:tensorflow:Model was constructed with shape (None, 1) for input KerasTensor(type_spec=TensorSpec(shape=(None, 1), dtype=tf.float32, name='normalization_2_input'), name='normalization_2_input', description=\"created by layer 'normalization_2_input'\"), but it was called on an input with incompatible shape (None, 11).\n",
            " 1/13 [=>............................] - ETA: 4s - loss: 6.1878WARNING:tensorflow:Model was constructed with shape (None, 1) for input KerasTensor(type_spec=TensorSpec(shape=(None, 1), dtype=tf.float32, name='normalization_2_input'), name='normalization_2_input', description=\"created by layer 'normalization_2_input'\"), but it was called on an input with incompatible shape (None, 11).\n",
            "13/13 [==============================] - 1s 25ms/step - loss: 5.5024 - val_loss: 3.3566\n",
            "Epoch 2/200\n",
            "13/13 [==============================] - 0s 11ms/step - loss: 2.2824 - val_loss: 1.2272\n",
            "Epoch 3/200\n",
            "13/13 [==============================] - 0s 11ms/step - loss: 1.0077 - val_loss: 0.7514\n",
            "Epoch 4/200\n",
            "13/13 [==============================] - 0s 10ms/step - loss: 0.7930 - val_loss: 0.6697\n",
            "Epoch 5/200\n",
            "13/13 [==============================] - 0s 11ms/step - loss: 0.7094 - val_loss: 0.6182\n",
            "Epoch 6/200\n",
            "13/13 [==============================] - 0s 10ms/step - loss: 0.7460 - val_loss: 0.6205\n",
            "Epoch 7/200\n",
            "13/13 [==============================] - 0s 10ms/step - loss: 0.6645 - val_loss: 0.5894\n",
            "Epoch 8/200\n",
            "13/13 [==============================] - 0s 11ms/step - loss: 0.6581 - val_loss: 0.6553\n",
            "Epoch 9/200\n",
            "13/13 [==============================] - 0s 11ms/step - loss: 0.6461 - val_loss: 0.6316\n",
            "Epoch 10/200\n",
            "13/13 [==============================] - 0s 11ms/step - loss: 0.6769 - val_loss: 0.6206\n",
            "Epoch 11/200\n",
            "13/13 [==============================] - 0s 10ms/step - loss: 0.7148 - val_loss: 0.6178\n",
            "Epoch 12/200\n",
            "13/13 [==============================] - 0s 10ms/step - loss: 0.7372 - val_loss: 0.7510\n",
            "Epoch 13/200\n",
            "13/13 [==============================] - 0s 11ms/step - loss: 0.7040 - val_loss: 0.6302\n",
            "Epoch 14/200\n",
            "13/13 [==============================] - 0s 10ms/step - loss: 0.6957 - val_loss: 0.6288\n",
            "Epoch 15/200\n",
            "13/13 [==============================] - 0s 12ms/step - loss: 0.6927 - val_loss: 0.6393\n",
            "Epoch 16/200\n",
            "13/13 [==============================] - 0s 11ms/step - loss: 0.6869 - val_loss: 0.6147\n",
            "Epoch 17/200\n",
            "13/13 [==============================] - 0s 13ms/step - loss: 0.6695 - val_loss: 0.6009\n",
            "Epoch 18/200\n",
            "13/13 [==============================] - 0s 11ms/step - loss: 0.6414 - val_loss: 0.6055\n",
            "Epoch 19/200\n",
            "13/13 [==============================] - 0s 11ms/step - loss: 0.6598 - val_loss: 0.5974\n",
            "Epoch 20/200\n",
            "13/13 [==============================] - 0s 11ms/step - loss: 0.6767 - val_loss: 0.6234\n",
            "Epoch 21/200\n",
            "13/13 [==============================] - 0s 11ms/step - loss: 0.6701 - val_loss: 0.6241\n",
            "Epoch 22/200\n",
            "13/13 [==============================] - 0s 11ms/step - loss: 0.6776 - val_loss: 0.6912\n",
            "Epoch 23/200\n",
            "13/13 [==============================] - 0s 11ms/step - loss: 0.7442 - val_loss: 0.6088\n",
            "Epoch 24/200\n",
            "13/13 [==============================] - 0s 11ms/step - loss: 0.6293 - val_loss: 0.5937\n",
            "Epoch 25/200\n",
            "13/13 [==============================] - 0s 13ms/step - loss: 0.6641 - val_loss: 0.5962\n",
            "Epoch 26/200\n",
            "13/13 [==============================] - 0s 11ms/step - loss: 0.6446 - val_loss: 0.5967\n",
            "Epoch 27/200\n",
            "13/13 [==============================] - 0s 10ms/step - loss: 0.6523 - val_loss: 0.5929\n",
            "Epoch 28/200\n",
            "13/13 [==============================] - 0s 11ms/step - loss: 0.6472 - val_loss: 0.5919\n",
            "Epoch 29/200\n",
            "13/13 [==============================] - 0s 14ms/step - loss: 0.6659 - val_loss: 0.6116\n",
            "Epoch 30/200\n",
            "13/13 [==============================] - 0s 11ms/step - loss: 0.6497 - val_loss: 0.6082\n",
            "Epoch 31/200\n",
            "13/13 [==============================] - 0s 11ms/step - loss: 0.6472 - val_loss: 0.6093\n",
            "Epoch 32/200\n",
            "13/13 [==============================] - 0s 10ms/step - loss: 0.6657 - val_loss: 0.6411\n",
            "Epoch 33/200\n",
            "13/13 [==============================] - 0s 12ms/step - loss: 0.6639 - val_loss: 0.6221\n",
            "Epoch 34/200\n",
            "13/13 [==============================] - 0s 11ms/step - loss: 0.6900 - val_loss: 0.6015\n",
            "Epoch 35/200\n",
            "13/13 [==============================] - 0s 11ms/step - loss: 0.6806 - val_loss: 0.6008\n",
            "Epoch 36/200\n",
            "13/13 [==============================] - 0s 11ms/step - loss: 0.6630 - val_loss: 0.5858\n",
            "Epoch 37/200\n",
            "13/13 [==============================] - 0s 12ms/step - loss: 0.6664 - val_loss: 0.5817\n",
            "Epoch 38/200\n",
            "13/13 [==============================] - 0s 10ms/step - loss: 0.6657 - val_loss: 0.5821\n",
            "Epoch 39/200\n",
            "13/13 [==============================] - 0s 11ms/step - loss: 0.6386 - val_loss: 0.6331\n",
            "Epoch 40/200\n",
            "13/13 [==============================] - 0s 11ms/step - loss: 0.6658 - val_loss: 0.6099\n",
            "Epoch 41/200\n",
            "13/13 [==============================] - 0s 12ms/step - loss: 0.6979 - val_loss: 0.5910\n",
            "Epoch 42/200\n",
            "13/13 [==============================] - 0s 11ms/step - loss: 0.6237 - val_loss: 0.6329\n",
            "Epoch 43/200\n",
            "13/13 [==============================] - 0s 11ms/step - loss: 0.6431 - val_loss: 0.5978\n",
            "Epoch 44/200\n",
            "13/13 [==============================] - 0s 12ms/step - loss: 0.6111 - val_loss: 0.5926\n",
            "Epoch 45/200\n",
            "13/13 [==============================] - 0s 11ms/step - loss: 0.6617 - val_loss: 0.5872\n",
            "Epoch 46/200\n",
            "13/13 [==============================] - 0s 11ms/step - loss: 0.6957 - val_loss: 0.6222\n",
            "Epoch 47/200\n",
            "13/13 [==============================] - 0s 11ms/step - loss: 0.6411 - val_loss: 0.6056\n",
            "Epoch 48/200\n",
            "13/13 [==============================] - 0s 12ms/step - loss: 0.6453 - val_loss: 0.5962\n",
            "Epoch 49/200\n",
            "13/13 [==============================] - 0s 10ms/step - loss: 0.6378 - val_loss: 0.6597\n",
            "Epoch 50/200\n",
            "13/13 [==============================] - 0s 11ms/step - loss: 0.6909 - val_loss: 0.5966\n",
            "Epoch 51/200\n",
            "13/13 [==============================] - 0s 11ms/step - loss: 0.6432 - val_loss: 0.5945\n",
            "Epoch 52/200\n",
            "13/13 [==============================] - 0s 12ms/step - loss: 0.6400 - val_loss: 0.6565\n",
            "Epoch 53/200\n",
            "13/13 [==============================] - 0s 11ms/step - loss: 0.6469 - val_loss: 0.5944\n",
            "Epoch 54/200\n",
            "13/13 [==============================] - 0s 11ms/step - loss: 0.6552 - val_loss: 0.6151\n",
            "Epoch 55/200\n",
            "13/13 [==============================] - 0s 11ms/step - loss: 0.6512 - val_loss: 0.6079\n",
            "Epoch 56/200\n",
            "13/13 [==============================] - 0s 11ms/step - loss: 0.6656 - val_loss: 0.5852\n",
            "Epoch 57/200\n",
            "13/13 [==============================] - 0s 11ms/step - loss: 0.6711 - val_loss: 0.5875\n",
            "Epoch 58/200\n",
            "13/13 [==============================] - 0s 11ms/step - loss: 0.6728 - val_loss: 0.6351\n",
            "Epoch 59/200\n",
            "13/13 [==============================] - 0s 11ms/step - loss: 0.6224 - val_loss: 0.5884\n",
            "Epoch 60/200\n",
            "13/13 [==============================] - 0s 11ms/step - loss: 0.6894 - val_loss: 0.5856\n",
            "Epoch 61/200\n",
            "13/13 [==============================] - 0s 11ms/step - loss: 0.6757 - val_loss: 0.5918\n",
            "Epoch 62/200\n",
            "13/13 [==============================] - 0s 11ms/step - loss: 0.6595 - val_loss: 0.6158\n",
            "Epoch 63/200\n",
            "13/13 [==============================] - 0s 11ms/step - loss: 0.6498 - val_loss: 0.5982\n",
            "Epoch 64/200\n",
            "13/13 [==============================] - 0s 12ms/step - loss: 0.6657 - val_loss: 0.6118\n",
            "Epoch 65/200\n",
            "13/13 [==============================] - 0s 13ms/step - loss: 0.6866 - val_loss: 0.6247\n",
            "Epoch 66/200\n",
            "13/13 [==============================] - 0s 11ms/step - loss: 0.7086 - val_loss: 0.6002\n",
            "Epoch 67/200\n",
            "13/13 [==============================] - 0s 11ms/step - loss: 0.6497 - val_loss: 0.5890\n",
            "Epoch 68/200\n",
            "13/13 [==============================] - 0s 11ms/step - loss: 0.6531 - val_loss: 0.7177\n",
            "Epoch 69/200\n",
            "13/13 [==============================] - 0s 11ms/step - loss: 0.6891 - val_loss: 0.5891\n",
            "Epoch 70/200\n",
            "13/13 [==============================] - 0s 11ms/step - loss: 0.6209 - val_loss: 0.5892\n",
            "Epoch 71/200\n",
            "13/13 [==============================] - 0s 11ms/step - loss: 0.6266 - val_loss: 0.5922\n",
            "Epoch 72/200\n",
            "13/13 [==============================] - 0s 11ms/step - loss: 0.6517 - val_loss: 0.6585\n",
            "Epoch 73/200\n",
            "13/13 [==============================] - 0s 12ms/step - loss: 0.6831 - val_loss: 0.6521\n",
            "Epoch 74/200\n",
            "13/13 [==============================] - 0s 12ms/step - loss: 0.6889 - val_loss: 0.5915\n",
            "Epoch 75/200\n",
            "13/13 [==============================] - 0s 11ms/step - loss: 0.6796 - val_loss: 0.5963\n",
            "Epoch 76/200\n",
            "13/13 [==============================] - 0s 11ms/step - loss: 0.6282 - val_loss: 0.5908\n",
            "Epoch 77/200\n",
            "13/13 [==============================] - 0s 11ms/step - loss: 0.6552 - val_loss: 0.5836\n",
            "Epoch 78/200\n",
            "13/13 [==============================] - 0s 12ms/step - loss: 0.6457 - val_loss: 0.6013\n",
            "Epoch 79/200\n",
            "13/13 [==============================] - 0s 11ms/step - loss: 0.6409 - val_loss: 0.5929\n",
            "Epoch 80/200\n",
            "13/13 [==============================] - 0s 12ms/step - loss: 0.6394 - val_loss: 0.5884\n",
            "Epoch 81/200\n",
            "13/13 [==============================] - 0s 11ms/step - loss: 0.6349 - val_loss: 0.5914\n",
            "Epoch 82/200\n",
            "13/13 [==============================] - 0s 11ms/step - loss: 0.6331 - val_loss: 0.5871\n",
            "Epoch 83/200\n",
            "13/13 [==============================] - 0s 10ms/step - loss: 0.6683 - val_loss: 0.5860\n",
            "Epoch 84/200\n",
            "13/13 [==============================] - 0s 11ms/step - loss: 0.6194 - val_loss: 0.5989\n",
            "Epoch 85/200\n",
            "13/13 [==============================] - 0s 11ms/step - loss: 0.6694 - val_loss: 0.5869\n",
            "Epoch 86/200\n",
            "13/13 [==============================] - 0s 11ms/step - loss: 0.6345 - val_loss: 0.6105\n",
            "Epoch 87/200\n",
            "13/13 [==============================] - 0s 11ms/step - loss: 0.6407 - val_loss: 0.5989\n",
            "Epoch 00087: early stopping\n"
          ],
          "name": "stdout"
        }
      ]
    },
    {
      "cell_type": "markdown",
      "metadata": {
        "id": "dqane4uAmVWO"
      },
      "source": [
        "#### Plot performance "
      ]
    },
    {
      "cell_type": "code",
      "metadata": {
        "colab": {
          "base_uri": "https://localhost:8080/",
          "height": 283
        },
        "id": "22yrfXilqkTe",
        "outputId": "b6a6915d-72e9-44ac-ecc1-a895975eb533"
      },
      "source": [
        "# Now we can plot our models learning process\n",
        "hist = pd.DataFrame(history.history)\n",
        "hist['epoch'] = history.epoch\n",
        "#hist.tail()\n",
        "def plot_loss(history):\n",
        "  plt.plot(history.history['loss'], label='loss')\n",
        "  plt.plot(history.history['val_loss'], label='val_loss')\n",
        "  plt.ylim([0, 10])\n",
        "  plt.xlabel('Epoch')\n",
        "  plt.ylabel('Error')\n",
        "  plt.legend()\n",
        "  plt.grid(True)\n",
        "plot_loss(history)"
      ],
      "execution_count": 15,
      "outputs": [
        {
          "output_type": "display_data",
          "data": {
            "image/png": "[encoded data removed]",
            "text/plain": [
              "<Figure size 432x288 with 1 Axes>"
            ]
          },
          "metadata": {
            "tags": [],
            "needs_background": "light"
          }
        }
      ]
    },
    {
      "cell_type": "markdown",
      "metadata": {
        "id": "S9eusH_Ejr3u"
      },
      "source": [
        "https://www.tensorflow.org/tutorials/keras/regression\n",
        "\n",
        "https://www.sciencedirect.com/science/article/abs/pii/S0167923609001377?via%3Dihub\n"
      ]
    },
    {
      "cell_type": "markdown",
      "metadata": {
        "id": "2Z_3F5j0pKRq"
      },
      "source": [
        "# Convolution (coming soon)\n",
        "\n",
        "![](https://cdn02.nintendo-europe.com/media/images/10_share_images/games_15/nintendo_switch_download_software_1/H2x1_NSwitchDS_HereBeDragons.jpg)\n",
        "\n"
      ]
    }
  ]
}